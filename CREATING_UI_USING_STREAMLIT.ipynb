{
 "cells": [
  {
   "cell_type": "code",
   "execution_count": 2,
   "id": "83c937dc-6499-47c5-abe5-4c837b11d3f2",
   "metadata": {},
   "outputs": [],
   "source": [
    "import streamlit as st"
   ]
  },
  {
   "cell_type": "code",
   "execution_count": 4,
   "id": "bbdf6bae-46a7-4a2b-8743-c813cd31ac53",
   "metadata": {},
   "outputs": [],
   "source": [
    "# Title of the app\n",
    "st.title('KUNAL's FIRST Streamlit App')\n",
    "\n",
    "# Add a header\n",
    "st.header('PERSONAL DETAILS')\n",
    "\n",
    "# Add a text input\n",
    "user_input = st.text_input('Enter some text:')\n",
    "\n",
    "# Display the input text\n",
    "st.write(f'You entered: {user_input}')\n",
    "\n",
    "# Add a slider\n",
    "slider_value = st.slider('Select a value', 0, 100)\n",
    "\n",
    "# Display the slider value\n",
    "st.write(f'Slider value: {slider_value}')\n",
    "\n",
    "# Add a button\n",
    "if st.button('Click me'):\n",
    "    st.write('Button clicked!')\n",
    "\n",
    "# Add a file uploader\n",
    "uploaded_file = st.file_uploader('Choose a file')\n",
    "\n",
    "# If a file is uploaded, display its name\n",
    "if uploaded_file is not None:\n",
    "    st.write(f'Uploaded file: {uploaded_file.name}')"
   ]
  },
  {
   "cell_type": "code",
   "execution_count": null,
   "id": "7cb789b5-86ef-4e9b-aa7c-5a25c9d2315d",
   "metadata": {},
   "outputs": [],
   "source": [
    "\n"
   ]
  }
 ],
 "metadata": {
  "kernelspec": {
   "display_name": "Python 3 (ipykernel)",
   "language": "python",
   "name": "python3"
  },
  "language_info": {
   "codemirror_mode": {
    "name": "ipython",
    "version": 3
   },
   "file_extension": ".py",
   "mimetype": "text/x-python",
   "name": "python",
   "nbconvert_exporter": "python",
   "pygments_lexer": "ipython3",
   "version": "3.12.4"
  }
 },
 "nbformat": 4,
 "nbformat_minor": 5
}
